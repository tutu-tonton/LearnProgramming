{
  "nbformat": 4,
  "nbformat_minor": 0,
  "metadata": {
    "colab": {
      "name": "PythonでTwitterAPIをたたく.ipynb",
      "provenance": [],
      "collapsed_sections": []
    },
    "kernelspec": {
      "name": "python3",
      "display_name": "Python 3"
    },
    "language_info": {
      "name": "python"
    }
  },
  "cells": [
    {
      "cell_type": "code",
      "metadata": {
        "id": "I2z-Lcmstp9a"
      },
      "source": [
        "import json\n",
        "from requests_oauthlib import OAuth1Session"
      ],
      "execution_count": null,
      "outputs": []
    },
    {
      "cell_type": "code",
      "metadata": {
        "id": "yDdTFC84uhHO"
      },
      "source": [
        "CONSUMER_KEY = \"\"\n",
        "CONSUMER_SECRET = \"\"\n",
        "ACCESS_TOKEN = ''\n",
        "ACCESS_TOKEN_SECRET = ''"
      ],
      "execution_count": null,
      "outputs": []
    },
    {
      "cell_type": "code",
      "metadata": {
        "id": "lxinxq7EvBoa"
      },
      "source": [
        "twitter = OAuth1Session(CONSUMER_KEY, CONSUMER_SECRET, ACCESS_TOKEN, ACCESS_TOKEN_SECRET)"
      ],
      "execution_count": null,
      "outputs": []
    },
    {
      "cell_type": "markdown",
      "metadata": {
        "id": "o9j_6tnHxt-U"
      },
      "source": [
        "# Twitterから情報取得"
      ]
    },
    {
      "cell_type": "markdown",
      "metadata": {
        "id": "PCw5C5Hcvd7i"
      },
      "source": [
        "## Endpoint"
      ]
    },
    {
      "cell_type": "code",
      "metadata": {
        "id": "cp8ogxpXvYP5"
      },
      "source": [
        "url = 'https//api/twitter.com/1.1/statuses/user_timeline.json'"
      ],
      "execution_count": null,
      "outputs": []
    },
    {
      "cell_type": "code",
      "metadata": {
        "id": "4-_leHlowDtc"
      },
      "source": [
        "params = {'count' : 5}"
      ],
      "execution_count": null,
      "outputs": []
    },
    {
      "cell_type": "code",
      "metadata": {
        "id": "_ITcWjsIwIEc"
      },
      "source": [
        "res = twitter.get(url, params=params)"
      ],
      "execution_count": null,
      "outputs": []
    },
    {
      "cell_type": "markdown",
      "metadata": {
        "id": "q7kPwXfhwfZZ"
      },
      "source": [
        "### リクエスト成功してるか確認"
      ]
    },
    {
      "cell_type": "code",
      "metadata": {
        "id": "QGSdAoY0wakW"
      },
      "source": [
        "res.status_code"
      ],
      "execution_count": null,
      "outputs": []
    },
    {
      "cell_type": "markdown",
      "metadata": {
        "id": "oPyM1eXNxZmJ"
      },
      "source": [
        "### json形式で見やすくする"
      ]
    },
    {
      "cell_type": "code",
      "metadata": {
        "id": "S7tinW4HwoWM"
      },
      "source": [
        "timelines = json.loads(res.text)"
      ],
      "execution_count": null,
      "outputs": []
    },
    {
      "cell_type": "code",
      "metadata": {
        "id": "BT7kB7vNwww_"
      },
      "source": [
        "timeline = timeline[0]"
      ],
      "execution_count": null,
      "outputs": []
    },
    {
      "cell_type": "code",
      "metadata": {
        "id": "q347YdylxHYp"
      },
      "source": [
        "timeline['user']['description']"
      ],
      "execution_count": null,
      "outputs": []
    },
    {
      "cell_type": "markdown",
      "metadata": {
        "id": "p6kQtnLHx0Oi"
      },
      "source": [
        "# Tweetする"
      ]
    },
    {
      "cell_type": "code",
      "metadata": {
        "id": "7YaFh_GvxeJl"
      },
      "source": [
        "twitter = OAuth1Session(CONSUMER_KEY, CONSUMER_SECRET, ACCESS_TOKEN, ACCESS_TOKEN_SECRET)\n",
        "url = 'https/api/twitter.com/1.1/statuses/update.json'\n",
        "params = {'status' : 'これはTwitterAPIからのテストです'}"
      ],
      "execution_count": null,
      "outputs": []
    },
    {
      "cell_type": "code",
      "metadata": {
        "id": "3-es3u16yiim"
      },
      "source": [
        "twitter.post(url, params=params)"
      ],
      "execution_count": null,
      "outputs": []
    }
  ]
}