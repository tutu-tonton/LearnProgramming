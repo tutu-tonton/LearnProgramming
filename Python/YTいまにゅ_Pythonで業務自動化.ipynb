{
  "nbformat": 4,
  "nbformat_minor": 5,
  "metadata": {
    "kernelspec": {
      "display_name": "Python 3",
      "language": "python",
      "name": "python3"
    },
    "language_info": {
      "codemirror_mode": {
        "name": "ipython",
        "version": 3
      },
      "file_extension": ".py",
      "mimetype": "text/x-python",
      "name": "python",
      "nbconvert_exporter": "python",
      "pygments_lexer": "ipython3",
      "version": "3.9.1"
    },
    "colab": {
      "name": "YTいまにゅ-Pythonで業務自動化.ipynb",
      "provenance": []
    }
  },
  "cells": [
    {
      "cell_type": "markdown",
      "metadata": {
        "id": "bT4atyk2VbDG"
      },
      "source": [
        "# データ整形"
      ],
      "id": "bT4atyk2VbDG"
    },
    {
      "cell_type": "code",
      "metadata": {
        "id": "elegant-invasion"
      },
      "source": [
        "import pandas as pd\n",
        "from glob import glob"
      ],
      "id": "elegant-invasion",
      "execution_count": null,
      "outputs": []
    },
    {
      "cell_type": "code",
      "metadata": {
        "id": "killing-hydrogen",
        "outputId": "08d86eae-d65f-429e-bbdd-f8345bd7dd1a"
      },
      "source": [
        "# フォルダ内のファイル達を取得\n",
        "\n",
        "filepaths_order = glob('sources/order_new/order*.xlsx')\n",
        "filepaths_order"
      ],
      "id": "killing-hydrogen",
      "execution_count": null,
      "outputs": [
        {
          "data": {
            "text/plain": [
              "['sources/order_new/order_C_20210203.xlsx',\n",
              " 'sources/order_new/order_D_20210203.xlsx',\n",
              " 'sources/order_new/order_A_20210203.xlsx',\n",
              " 'sources/order_new/order_B_20210203.xlsx']"
            ]
          },
          "execution_count": 2,
          "metadata": {},
          "output_type": "execute_result"
        }
      ]
    },
    {
      "cell_type": "code",
      "metadata": {
        "id": "owned-operator"
      },
      "source": [
        "filepath = filepaths_order[0]\n",
        "filepath"
      ],
      "id": "owned-operator",
      "execution_count": null,
      "outputs": []
    },
    {
      "cell_type": "code",
      "metadata": {
        "id": "efficient-pledge",
        "outputId": "8157c1cf-f171-4a67-ffbd-a87c6a80522e"
      },
      "source": [
        "# excelファイルをDF化\n",
        "\n",
        "df_order = pd.read_excel(filepath)\n",
        "df_order"
      ],
      "id": "efficient-pledge",
      "execution_count": null,
      "outputs": [
        {
          "data": {
            "text/html": [
              "<div>\n",
              "<style scoped>\n",
              "    .dataframe tbody tr th:only-of-type {\n",
              "        vertical-align: middle;\n",
              "    }\n",
              "\n",
              "    .dataframe tbody tr th {\n",
              "        vertical-align: top;\n",
              "    }\n",
              "\n",
              "    .dataframe thead th {\n",
              "        text-align: right;\n",
              "    }\n",
              "</style>\n",
              "<table border=\"1\" class=\"dataframe\">\n",
              "  <thead>\n",
              "    <tr style=\"text-align: right;\">\n",
              "      <th></th>\n",
              "      <th>焼酎</th>\n",
              "      <th>白ワイン</th>\n",
              "      <th>ブランデー</th>\n",
              "    </tr>\n",
              "  </thead>\n",
              "  <tbody>\n",
              "    <tr>\n",
              "      <th>0</th>\n",
              "      <td>8</td>\n",
              "      <td>18</td>\n",
              "      <td>2</td>\n",
              "    </tr>\n",
              "  </tbody>\n",
              "</table>\n",
              "</div>"
            ],
            "text/plain": [
              "   焼酎  白ワイン  ブランデー\n",
              "0   8    18      2"
            ]
          },
          "execution_count": 5,
          "metadata": {},
          "output_type": "execute_result"
        }
      ]
    },
    {
      "cell_type": "code",
      "metadata": {
        "id": "solved-coordinate",
        "outputId": "75f329a9-ef01-4f4a-b021-cfe2d4a81dbb"
      },
      "source": [
        "# DFから必要部分を抽出して、Dictとして情報をまとめたい\n",
        "\n",
        "df_order.to_dict().items()"
      ],
      "id": "solved-coordinate",
      "execution_count": null,
      "outputs": [
        {
          "data": {
            "text/plain": [
              "dict_items([('焼酎', {0: 8}), ('白ワイン', {0: 18}), ('ブランデー', {0: 2})])"
            ]
          },
          "execution_count": 7,
          "metadata": {},
          "output_type": "execute_result"
        }
      ]
    },
    {
      "cell_type": "code",
      "metadata": {
        "id": "secondary-dominican"
      },
      "source": [
        "from collections import defaultdict"
      ],
      "id": "secondary-dominican",
      "execution_count": null,
      "outputs": []
    },
    {
      "cell_type": "code",
      "metadata": {
        "id": "paperback-mayor"
      },
      "source": [
        "# 情報まとめる用のDict用意。acc\n",
        "\n",
        "order = defaultdict(int)"
      ],
      "id": "paperback-mayor",
      "execution_count": null,
      "outputs": []
    },
    {
      "cell_type": "code",
      "metadata": {
        "id": "trained-oakland",
        "outputId": "773297b3-aaff-41bf-e289-dfad018ac09c"
      },
      "source": [
        "# valueがdictになっていて、さらにそのvalue部分の値を取得するには？\n",
        "\n",
        "for key, value in df_order.to_dict().items():\n",
        "    order[key] += value[0]\n",
        "    print(value[0])"
      ],
      "id": "trained-oakland",
      "execution_count": null,
      "outputs": [
        {
          "name": "stdout",
          "output_type": "stream",
          "text": [
            "8\n",
            "18\n",
            "2\n"
          ]
        }
      ]
    },
    {
      "cell_type": "code",
      "metadata": {
        "id": "resident-raleigh",
        "outputId": "ea0e31aa-a3ae-43ff-89bf-3da6f5e0a126"
      },
      "source": [
        "# acc用dictに情報集まる\n",
        "\n",
        "order"
      ],
      "id": "resident-raleigh",
      "execution_count": null,
      "outputs": [
        {
          "data": {
            "text/plain": [
              "defaultdict(int, {'焼酎': 8, '白ワイン': 18, 'ブランデー': 2})"
            ]
          },
          "execution_count": 22,
          "metadata": {},
          "output_type": "execute_result"
        }
      ]
    },
    {
      "cell_type": "code",
      "metadata": {
        "id": "composite-income",
        "outputId": "e6c71582-e7b7-4d15-c31a-4abed38d6e8e"
      },
      "source": [
        "filepath = filepaths_order[1]\n",
        "df_order = pd.read_excel(filepath)\n",
        "df_order"
      ],
      "id": "composite-income",
      "execution_count": null,
      "outputs": [
        {
          "data": {
            "text/html": [
              "<div>\n",
              "<style scoped>\n",
              "    .dataframe tbody tr th:only-of-type {\n",
              "        vertical-align: middle;\n",
              "    }\n",
              "\n",
              "    .dataframe tbody tr th {\n",
              "        vertical-align: top;\n",
              "    }\n",
              "\n",
              "    .dataframe thead th {\n",
              "        text-align: right;\n",
              "    }\n",
              "</style>\n",
              "<table border=\"1\" class=\"dataframe\">\n",
              "  <thead>\n",
              "    <tr style=\"text-align: right;\">\n",
              "      <th></th>\n",
              "      <th>焼酎</th>\n",
              "      <th>赤ワイン</th>\n",
              "      <th>白ワイン</th>\n",
              "    </tr>\n",
              "  </thead>\n",
              "  <tbody>\n",
              "    <tr>\n",
              "      <th>0</th>\n",
              "      <td>3</td>\n",
              "      <td>4</td>\n",
              "      <td>6</td>\n",
              "    </tr>\n",
              "  </tbody>\n",
              "</table>\n",
              "</div>"
            ],
            "text/plain": [
              "   焼酎  赤ワイン  白ワイン\n",
              "0   3     4     6"
            ]
          },
          "execution_count": 24,
          "metadata": {},
          "output_type": "execute_result"
        }
      ]
    },
    {
      "cell_type": "code",
      "metadata": {
        "id": "logical-beads",
        "outputId": "8acf34f9-9837-495d-bfa0-705f6d2bed6c"
      },
      "source": [
        "for key, value in df_order.to_dict().items():\n",
        "    order[key] += value[0]"
      ],
      "id": "logical-beads",
      "execution_count": null,
      "outputs": [
        {
          "name": "stdout",
          "output_type": "stream",
          "text": [
            "3\n",
            "4\n",
            "6\n"
          ]
        }
      ]
    },
    {
      "cell_type": "code",
      "metadata": {
        "id": "received-hazard",
        "outputId": "ad59cab5-7f03-45bf-9015-2d2d8fee3cc7"
      },
      "source": [
        "order"
      ],
      "id": "received-hazard",
      "execution_count": null,
      "outputs": [
        {
          "data": {
            "text/plain": [
              "defaultdict(int, {'焼酎': 11, '白ワイン': 24, 'ブランデー': 2, '赤ワイン': 4})"
            ]
          },
          "execution_count": 26,
          "metadata": {},
          "output_type": "execute_result"
        }
      ]
    },
    {
      "cell_type": "markdown",
      "metadata": {
        "id": "SwTloa-UXohm"
      },
      "source": [
        "# 💡 集計済みファイルを別フォルダに移動"
      ],
      "id": "SwTloa-UXohm"
    },
    {
      "cell_type": "code",
      "metadata": {
        "id": "discrete-studio"
      },
      "source": [
        "import os\n",
        "import shutil"
      ],
      "id": "discrete-studio",
      "execution_count": null,
      "outputs": []
    },
    {
      "cell_type": "code",
      "metadata": {
        "id": "stopped-guatemala",
        "outputId": "7307932c-ca00-4efe-e237-e562b82eb477"
      },
      "source": [
        "os.listdir('sources/order_new/')"
      ],
      "id": "stopped-guatemala",
      "execution_count": null,
      "outputs": [
        {
          "data": {
            "text/plain": [
              "['order_C_20210203.xlsx',\n",
              " 'order_D_20210203.xlsx',\n",
              " 'order_A_20210203.xlsx',\n",
              " 'order_B_20210203.xlsx']"
            ]
          },
          "execution_count": 28,
          "metadata": {},
          "output_type": "execute_result"
        }
      ]
    },
    {
      "cell_type": "code",
      "metadata": {
        "id": "fabulous-radius",
        "outputId": "98ad71c6-f2d2-474c-8d0e-907dcd954487"
      },
      "source": [
        "os.listdir('sources/order_old/')"
      ],
      "id": "fabulous-radius",
      "execution_count": null,
      "outputs": [
        {
          "data": {
            "text/plain": [
              "['.DS_Store']"
            ]
          },
          "execution_count": 29,
          "metadata": {},
          "output_type": "execute_result"
        }
      ]
    },
    {
      "cell_type": "code",
      "metadata": {
        "id": "significant-inquiry",
        "outputId": "be19aa42-d207-4ae9-965e-b5f4755195b7"
      },
      "source": [
        "filepath = filepaths_order[0]\n",
        "shutil.move(filepath, 'sources/order_old/')"
      ],
      "id": "significant-inquiry",
      "execution_count": null,
      "outputs": [
        {
          "data": {
            "text/plain": [
              "'sources/order_old/order_C_20210203.xlsx'"
            ]
          },
          "execution_count": 32,
          "metadata": {},
          "output_type": "execute_result"
        }
      ]
    },
    {
      "cell_type": "markdown",
      "metadata": {
        "id": "8wrg6xBfYs1t"
      },
      "source": [
        "## 今までの流れを関数化"
      ],
      "id": "8wrg6xBfYs1t"
    },
    {
      "cell_type": "code",
      "metadata": {
        "id": "worse-hazard"
      },
      "source": [
        "def update_order(order, filepath):\n",
        "    # 注文表読み込み\n",
        "    df_order = pd.read_excel(filepath)\n",
        "    for key, value in df_order.to_dict().items():\n",
        "        order[key] += value[0]\n",
        "    # ファイルの移動\n",
        "    shutil.move(filepath, 'sources/order_old/')\n",
        "    return order"
      ],
      "id": "worse-hazard",
      "execution_count": null,
      "outputs": []
    },
    {
      "cell_type": "code",
      "metadata": {
        "id": "sitting-quebec"
      },
      "source": [
        "# フォルダ内のすべてのファイルを集計する。\n",
        "\n",
        "order = defaultdict(int)\n",
        "\n",
        "for filepath in filepaths_order:\n",
        "    order = update_order(order, filepath)"
      ],
      "id": "sitting-quebec",
      "execution_count": null,
      "outputs": []
    },
    {
      "cell_type": "code",
      "metadata": {
        "id": "synthetic-fourth",
        "outputId": "e39b3f1e-6a70-4d5c-fd58-334282bbf405"
      },
      "source": [
        "order"
      ],
      "id": "synthetic-fourth",
      "execution_count": null,
      "outputs": [
        {
          "data": {
            "text/plain": [
              "defaultdict(int,\n",
              "            {'焼酎': 16.0,\n",
              "             '白ワイン': 54.0,\n",
              "             'ブランデー': 2,\n",
              "             '赤ワイン': 4,\n",
              "             'ウィスキー': 7.0,\n",
              "             '缶チューハイ': 23,\n",
              "             'Unnamed: 3': nan,\n",
              "             'Unnamed: 4': nan,\n",
              "             'Unnamed: 5': nan,\n",
              "             'Unnamed: 6': nan,\n",
              "             'Unnamed: 7': nan,\n",
              "             'Unnamed: 8': nan})"
            ]
          },
          "execution_count": 47,
          "metadata": {},
          "output_type": "execute_result"
        }
      ]
    },
    {
      "cell_type": "code",
      "metadata": {
        "id": "positive-daughter",
        "outputId": "e9b9f3a0-edfe-4121-bc49-507cc8061a6a"
      },
      "source": [
        "# 在庫表をDF化\n",
        "\n",
        "filepath_stock = 'sources/stock.xlsx'\n",
        "df_stock = pd.read_excel(filepath_stock)\n",
        "\n",
        "df_stock.tail(3)"
      ],
      "id": "positive-daughter",
      "execution_count": null,
      "outputs": [
        {
          "data": {
            "text/html": [
              "<div>\n",
              "<style scoped>\n",
              "    .dataframe tbody tr th:only-of-type {\n",
              "        vertical-align: middle;\n",
              "    }\n",
              "\n",
              "    .dataframe tbody tr th {\n",
              "        vertical-align: top;\n",
              "    }\n",
              "\n",
              "    .dataframe thead th {\n",
              "        text-align: right;\n",
              "    }\n",
              "</style>\n",
              "<table border=\"1\" class=\"dataframe\">\n",
              "  <thead>\n",
              "    <tr style=\"text-align: right;\">\n",
              "      <th></th>\n",
              "      <th>日付</th>\n",
              "      <th>曜日</th>\n",
              "      <th>日本酒</th>\n",
              "      <th>焼酎</th>\n",
              "      <th>赤ワイン</th>\n",
              "      <th>白ワイン</th>\n",
              "      <th>ウィスキー</th>\n",
              "      <th>ブランデー</th>\n",
              "      <th>缶チューハイ</th>\n",
              "    </tr>\n",
              "  </thead>\n",
              "  <tbody>\n",
              "    <tr>\n",
              "      <th>10</th>\n",
              "      <td>2021-02-04</td>\n",
              "      <td>Thu</td>\n",
              "      <td>99</td>\n",
              "      <td>66</td>\n",
              "      <td>77</td>\n",
              "      <td>107</td>\n",
              "      <td>31</td>\n",
              "      <td>37</td>\n",
              "      <td>149</td>\n",
              "    </tr>\n",
              "    <tr>\n",
              "      <th>11</th>\n",
              "      <td>2021-02-05</td>\n",
              "      <td>Fri</td>\n",
              "      <td>78</td>\n",
              "      <td>62</td>\n",
              "      <td>55</td>\n",
              "      <td>92</td>\n",
              "      <td>41</td>\n",
              "      <td>30</td>\n",
              "      <td>121</td>\n",
              "    </tr>\n",
              "    <tr>\n",
              "      <th>12</th>\n",
              "      <td>2021-02-06</td>\n",
              "      <td>Sat</td>\n",
              "      <td>66</td>\n",
              "      <td>48</td>\n",
              "      <td>38</td>\n",
              "      <td>70</td>\n",
              "      <td>31</td>\n",
              "      <td>18</td>\n",
              "      <td>98</td>\n",
              "    </tr>\n",
              "  </tbody>\n",
              "</table>\n",
              "</div>"
            ],
            "text/plain": [
              "           日付   曜日  日本酒  焼酎  赤ワイン  白ワイン  ウィスキー  ブランデー  缶チューハイ\n",
              "10 2021-02-04  Thu   99  66    77   107     31     37     149\n",
              "11 2021-02-05  Fri   78  62    55    92     41     30     121\n",
              "12 2021-02-06  Sat   66  48    38    70     31     18      98"
            ]
          },
          "execution_count": 48,
          "metadata": {},
          "output_type": "execute_result"
        }
      ]
    },
    {
      "cell_type": "markdown",
      "metadata": {
        "id": "0wZf7-9EZU5U"
      },
      "source": [
        "#### Tips: DF同士の計算"
      ],
      "id": "0wZf7-9EZU5U"
    },
    {
      "cell_type": "code",
      "metadata": {
        "id": "regulation-dominican",
        "outputId": "bab8e000-ec22-4a88-f38d-fa3b57bb2370"
      },
      "source": [
        "pd.DataFrame([[10, 4, 6]])"
      ],
      "id": "regulation-dominican",
      "execution_count": null,
      "outputs": [
        {
          "data": {
            "text/html": [
              "<div>\n",
              "<style scoped>\n",
              "    .dataframe tbody tr th:only-of-type {\n",
              "        vertical-align: middle;\n",
              "    }\n",
              "\n",
              "    .dataframe tbody tr th {\n",
              "        vertical-align: top;\n",
              "    }\n",
              "\n",
              "    .dataframe thead th {\n",
              "        text-align: right;\n",
              "    }\n",
              "</style>\n",
              "<table border=\"1\" class=\"dataframe\">\n",
              "  <thead>\n",
              "    <tr style=\"text-align: right;\">\n",
              "      <th></th>\n",
              "      <th>0</th>\n",
              "      <th>1</th>\n",
              "      <th>2</th>\n",
              "    </tr>\n",
              "  </thead>\n",
              "  <tbody>\n",
              "    <tr>\n",
              "      <th>0</th>\n",
              "      <td>10</td>\n",
              "      <td>4</td>\n",
              "      <td>6</td>\n",
              "    </tr>\n",
              "  </tbody>\n",
              "</table>\n",
              "</div>"
            ],
            "text/plain": [
              "    0  1  2\n",
              "0  10  4  6"
            ]
          },
          "execution_count": 49,
          "metadata": {},
          "output_type": "execute_result"
        }
      ]
    },
    {
      "cell_type": "code",
      "metadata": {
        "id": "incorrect-integrity",
        "outputId": "c4597a95-2490-4f3f-86f8-7e43c59b287d"
      },
      "source": [
        "pd.DataFrame([[5, 1, 10]])"
      ],
      "id": "incorrect-integrity",
      "execution_count": null,
      "outputs": [
        {
          "data": {
            "text/html": [
              "<div>\n",
              "<style scoped>\n",
              "    .dataframe tbody tr th:only-of-type {\n",
              "        vertical-align: middle;\n",
              "    }\n",
              "\n",
              "    .dataframe tbody tr th {\n",
              "        vertical-align: top;\n",
              "    }\n",
              "\n",
              "    .dataframe thead th {\n",
              "        text-align: right;\n",
              "    }\n",
              "</style>\n",
              "<table border=\"1\" class=\"dataframe\">\n",
              "  <thead>\n",
              "    <tr style=\"text-align: right;\">\n",
              "      <th></th>\n",
              "      <th>0</th>\n",
              "      <th>1</th>\n",
              "      <th>2</th>\n",
              "    </tr>\n",
              "  </thead>\n",
              "  <tbody>\n",
              "    <tr>\n",
              "      <th>0</th>\n",
              "      <td>5</td>\n",
              "      <td>1</td>\n",
              "      <td>10</td>\n",
              "    </tr>\n",
              "  </tbody>\n",
              "</table>\n",
              "</div>"
            ],
            "text/plain": [
              "   0  1   2\n",
              "0  5  1  10"
            ]
          },
          "execution_count": 50,
          "metadata": {},
          "output_type": "execute_result"
        }
      ]
    },
    {
      "cell_type": "code",
      "metadata": {
        "id": "selective-campbell",
        "outputId": "eff7c510-4fe4-4393-c8a8-dc4d2f74abd5"
      },
      "source": [
        "pd.DataFrame([[10, 4, 6]]) - pd.DataFrame([[5, 1, 10]])"
      ],
      "id": "selective-campbell",
      "execution_count": null,
      "outputs": [
        {
          "data": {
            "text/html": [
              "<div>\n",
              "<style scoped>\n",
              "    .dataframe tbody tr th:only-of-type {\n",
              "        vertical-align: middle;\n",
              "    }\n",
              "\n",
              "    .dataframe tbody tr th {\n",
              "        vertical-align: top;\n",
              "    }\n",
              "\n",
              "    .dataframe thead th {\n",
              "        text-align: right;\n",
              "    }\n",
              "</style>\n",
              "<table border=\"1\" class=\"dataframe\">\n",
              "  <thead>\n",
              "    <tr style=\"text-align: right;\">\n",
              "      <th></th>\n",
              "      <th>0</th>\n",
              "      <th>1</th>\n",
              "      <th>2</th>\n",
              "    </tr>\n",
              "  </thead>\n",
              "  <tbody>\n",
              "    <tr>\n",
              "      <th>0</th>\n",
              "      <td>5</td>\n",
              "      <td>3</td>\n",
              "      <td>-4</td>\n",
              "    </tr>\n",
              "  </tbody>\n",
              "</table>\n",
              "</div>"
            ],
            "text/plain": [
              "   0  1  2\n",
              "0  5  3 -4"
            ]
          },
          "execution_count": 51,
          "metadata": {},
          "output_type": "execute_result"
        }
      ]
    },
    {
      "cell_type": "code",
      "metadata": {
        "id": "experimental-johns",
        "outputId": "cb7ac81a-8875-4960-a288-6f87c0c98798"
      },
      "source": [
        "# DFの必要な行・列のみ抽出\n",
        "\n",
        "stock = df_stock.iloc[-1:, 2:]\n",
        "stock"
      ],
      "id": "experimental-johns",
      "execution_count": null,
      "outputs": [
        {
          "data": {
            "text/html": [
              "<div>\n",
              "<style scoped>\n",
              "    .dataframe tbody tr th:only-of-type {\n",
              "        vertical-align: middle;\n",
              "    }\n",
              "\n",
              "    .dataframe tbody tr th {\n",
              "        vertical-align: top;\n",
              "    }\n",
              "\n",
              "    .dataframe thead th {\n",
              "        text-align: right;\n",
              "    }\n",
              "</style>\n",
              "<table border=\"1\" class=\"dataframe\">\n",
              "  <thead>\n",
              "    <tr style=\"text-align: right;\">\n",
              "      <th></th>\n",
              "      <th>日本酒</th>\n",
              "      <th>焼酎</th>\n",
              "      <th>赤ワイン</th>\n",
              "      <th>白ワイン</th>\n",
              "      <th>ウィスキー</th>\n",
              "      <th>ブランデー</th>\n",
              "      <th>缶チューハイ</th>\n",
              "    </tr>\n",
              "  </thead>\n",
              "  <tbody>\n",
              "    <tr>\n",
              "      <th>12</th>\n",
              "      <td>66</td>\n",
              "      <td>48</td>\n",
              "      <td>38</td>\n",
              "      <td>70</td>\n",
              "      <td>31</td>\n",
              "      <td>18</td>\n",
              "      <td>98</td>\n",
              "    </tr>\n",
              "  </tbody>\n",
              "</table>\n",
              "</div>"
            ],
            "text/plain": [
              "    日本酒  焼酎  赤ワイン  白ワイン  ウィスキー  ブランデー  缶チューハイ\n",
              "12   66  48    38    70     31     18      98"
            ]
          },
          "execution_count": 52,
          "metadata": {},
          "output_type": "execute_result"
        }
      ]
    },
    {
      "cell_type": "code",
      "metadata": {
        "id": "subsequent-tackle",
        "outputId": "4321356c-8b3b-4343-fbdd-f29d808243fb"
      },
      "source": [
        "# 元のorderはdefaultdict型なので、DF変換\n",
        "# ただしこのままだと列の順番バラバラ・いらない列入り込んでいる。。。\n",
        "\n",
        "order = pd.DataFrame(order, index=[0])\n",
        "order"
      ],
      "id": "subsequent-tackle",
      "execution_count": null,
      "outputs": [
        {
          "data": {
            "text/html": [
              "<div>\n",
              "<style scoped>\n",
              "    .dataframe tbody tr th:only-of-type {\n",
              "        vertical-align: middle;\n",
              "    }\n",
              "\n",
              "    .dataframe tbody tr th {\n",
              "        vertical-align: top;\n",
              "    }\n",
              "\n",
              "    .dataframe thead th {\n",
              "        text-align: right;\n",
              "    }\n",
              "</style>\n",
              "<table border=\"1\" class=\"dataframe\">\n",
              "  <thead>\n",
              "    <tr style=\"text-align: right;\">\n",
              "      <th></th>\n",
              "      <th>焼酎</th>\n",
              "      <th>白ワイン</th>\n",
              "      <th>ブランデー</th>\n",
              "      <th>赤ワイン</th>\n",
              "      <th>ウィスキー</th>\n",
              "      <th>缶チューハイ</th>\n",
              "      <th>Unnamed: 3</th>\n",
              "      <th>Unnamed: 4</th>\n",
              "      <th>Unnamed: 5</th>\n",
              "      <th>Unnamed: 6</th>\n",
              "      <th>Unnamed: 7</th>\n",
              "      <th>Unnamed: 8</th>\n",
              "    </tr>\n",
              "  </thead>\n",
              "  <tbody>\n",
              "    <tr>\n",
              "      <th>0</th>\n",
              "      <td>16.0</td>\n",
              "      <td>54.0</td>\n",
              "      <td>2</td>\n",
              "      <td>4</td>\n",
              "      <td>7.0</td>\n",
              "      <td>23</td>\n",
              "      <td>NaN</td>\n",
              "      <td>NaN</td>\n",
              "      <td>NaN</td>\n",
              "      <td>NaN</td>\n",
              "      <td>NaN</td>\n",
              "      <td>NaN</td>\n",
              "    </tr>\n",
              "  </tbody>\n",
              "</table>\n",
              "</div>"
            ],
            "text/plain": [
              "     焼酎  白ワイン  ブランデー  赤ワイン  ウィスキー  缶チューハイ  Unnamed: 3  Unnamed: 4  Unnamed: 5  \\\n",
              "0  16.0  54.0      2     4    7.0      23         NaN         NaN         NaN   \n",
              "\n",
              "   Unnamed: 6  Unnamed: 7  Unnamed: 8  \n",
              "0         NaN         NaN         NaN  "
            ]
          },
          "execution_count": 54,
          "metadata": {},
          "output_type": "execute_result"
        }
      ]
    },
    {
      "cell_type": "code",
      "metadata": {
        "id": "detected-worship"
      },
      "source": [
        "# 計算相手のカラム構造似合わせる\n",
        "\n",
        "order = pd.DataFrame(order, index=[0], columns=stock.columns)"
      ],
      "id": "detected-worship",
      "execution_count": null,
      "outputs": []
    },
    {
      "cell_type": "code",
      "metadata": {
        "id": "allied-medicine",
        "outputId": "df2c878d-43a0-4f87-dca7-3327f380f38c"
      },
      "source": [
        "order"
      ],
      "id": "allied-medicine",
      "execution_count": null,
      "outputs": [
        {
          "data": {
            "text/html": [
              "<div>\n",
              "<style scoped>\n",
              "    .dataframe tbody tr th:only-of-type {\n",
              "        vertical-align: middle;\n",
              "    }\n",
              "\n",
              "    .dataframe tbody tr th {\n",
              "        vertical-align: top;\n",
              "    }\n",
              "\n",
              "    .dataframe thead th {\n",
              "        text-align: right;\n",
              "    }\n",
              "</style>\n",
              "<table border=\"1\" class=\"dataframe\">\n",
              "  <thead>\n",
              "    <tr style=\"text-align: right;\">\n",
              "      <th></th>\n",
              "      <th>日本酒</th>\n",
              "      <th>焼酎</th>\n",
              "      <th>赤ワイン</th>\n",
              "      <th>白ワイン</th>\n",
              "      <th>ウィスキー</th>\n",
              "      <th>ブランデー</th>\n",
              "      <th>缶チューハイ</th>\n",
              "    </tr>\n",
              "  </thead>\n",
              "  <tbody>\n",
              "    <tr>\n",
              "      <th>0</th>\n",
              "      <td>NaN</td>\n",
              "      <td>16.0</td>\n",
              "      <td>4</td>\n",
              "      <td>54.0</td>\n",
              "      <td>7.0</td>\n",
              "      <td>2</td>\n",
              "      <td>23</td>\n",
              "    </tr>\n",
              "  </tbody>\n",
              "</table>\n",
              "</div>"
            ],
            "text/plain": [
              "   日本酒    焼酎  赤ワイン  白ワイン  ウィスキー  ブランデー  缶チューハイ\n",
              "0  NaN  16.0     4  54.0    7.0      2      23"
            ]
          },
          "execution_count": 57,
          "metadata": {},
          "output_type": "execute_result"
        }
      ]
    },
    {
      "cell_type": "code",
      "metadata": {
        "id": "adjustable-philip",
        "outputId": "e52e4db1-3ba0-4985-ecb3-5e6e059f86b4"
      },
      "source": [
        "# NaNを0で補間する\n",
        "\n",
        "order = order.fillna(0)\n",
        "order"
      ],
      "id": "adjustable-philip",
      "execution_count": null,
      "outputs": [
        {
          "data": {
            "text/html": [
              "<div>\n",
              "<style scoped>\n",
              "    .dataframe tbody tr th:only-of-type {\n",
              "        vertical-align: middle;\n",
              "    }\n",
              "\n",
              "    .dataframe tbody tr th {\n",
              "        vertical-align: top;\n",
              "    }\n",
              "\n",
              "    .dataframe thead th {\n",
              "        text-align: right;\n",
              "    }\n",
              "</style>\n",
              "<table border=\"1\" class=\"dataframe\">\n",
              "  <thead>\n",
              "    <tr style=\"text-align: right;\">\n",
              "      <th></th>\n",
              "      <th>日本酒</th>\n",
              "      <th>焼酎</th>\n",
              "      <th>赤ワイン</th>\n",
              "      <th>白ワイン</th>\n",
              "      <th>ウィスキー</th>\n",
              "      <th>ブランデー</th>\n",
              "      <th>缶チューハイ</th>\n",
              "    </tr>\n",
              "  </thead>\n",
              "  <tbody>\n",
              "    <tr>\n",
              "      <th>0</th>\n",
              "      <td>0.0</td>\n",
              "      <td>16.0</td>\n",
              "      <td>4</td>\n",
              "      <td>54.0</td>\n",
              "      <td>7.0</td>\n",
              "      <td>2</td>\n",
              "      <td>23</td>\n",
              "    </tr>\n",
              "  </tbody>\n",
              "</table>\n",
              "</div>"
            ],
            "text/plain": [
              "   日本酒    焼酎  赤ワイン  白ワイン  ウィスキー  ブランデー  缶チューハイ\n",
              "0  0.0  16.0     4  54.0    7.0      2      23"
            ]
          },
          "execution_count": 58,
          "metadata": {},
          "output_type": "execute_result"
        }
      ]
    },
    {
      "cell_type": "code",
      "metadata": {
        "id": "military-metadata",
        "outputId": "62cf6551-2503-423f-c5b5-ca4f4ed0fc90"
      },
      "source": [
        "# 計算してみると、変な結果になる。。。\n",
        "# 行番号がおかしいから\n",
        "\n",
        "stock - order"
      ],
      "id": "military-metadata",
      "execution_count": null,
      "outputs": [
        {
          "data": {
            "text/html": [
              "<div>\n",
              "<style scoped>\n",
              "    .dataframe tbody tr th:only-of-type {\n",
              "        vertical-align: middle;\n",
              "    }\n",
              "\n",
              "    .dataframe tbody tr th {\n",
              "        vertical-align: top;\n",
              "    }\n",
              "\n",
              "    .dataframe thead th {\n",
              "        text-align: right;\n",
              "    }\n",
              "</style>\n",
              "<table border=\"1\" class=\"dataframe\">\n",
              "  <thead>\n",
              "    <tr style=\"text-align: right;\">\n",
              "      <th></th>\n",
              "      <th>日本酒</th>\n",
              "      <th>焼酎</th>\n",
              "      <th>赤ワイン</th>\n",
              "      <th>白ワイン</th>\n",
              "      <th>ウィスキー</th>\n",
              "      <th>ブランデー</th>\n",
              "      <th>缶チューハイ</th>\n",
              "    </tr>\n",
              "  </thead>\n",
              "  <tbody>\n",
              "    <tr>\n",
              "      <th>0</th>\n",
              "      <td>NaN</td>\n",
              "      <td>NaN</td>\n",
              "      <td>NaN</td>\n",
              "      <td>NaN</td>\n",
              "      <td>NaN</td>\n",
              "      <td>NaN</td>\n",
              "      <td>NaN</td>\n",
              "    </tr>\n",
              "    <tr>\n",
              "      <th>12</th>\n",
              "      <td>NaN</td>\n",
              "      <td>NaN</td>\n",
              "      <td>NaN</td>\n",
              "      <td>NaN</td>\n",
              "      <td>NaN</td>\n",
              "      <td>NaN</td>\n",
              "      <td>NaN</td>\n",
              "    </tr>\n",
              "  </tbody>\n",
              "</table>\n",
              "</div>"
            ],
            "text/plain": [
              "    日本酒  焼酎  赤ワイン  白ワイン  ウィスキー  ブランデー  缶チューハイ\n",
              "0   NaN NaN   NaN   NaN    NaN    NaN     NaN\n",
              "12  NaN NaN   NaN   NaN    NaN    NaN     NaN"
            ]
          },
          "execution_count": 59,
          "metadata": {},
          "output_type": "execute_result"
        }
      ]
    },
    {
      "cell_type": "code",
      "metadata": {
        "id": "determined-hammer"
      },
      "source": [
        "# 行番号リセット\n",
        "\n",
        "stock = stock.reset_index(drop=True)"
      ],
      "id": "determined-hammer",
      "execution_count": null,
      "outputs": []
    },
    {
      "cell_type": "code",
      "metadata": {
        "id": "plain-oregon",
        "outputId": "b4eda9dd-652f-4405-9cee-43239bb5cd3c"
      },
      "source": [
        "# ようやく計算できる\n",
        "# updated :\n",
        "#   <DF>\n",
        "#   各店舗に発送したあとの在庫数\n",
        "\n",
        "updated = stock - order\n",
        "updated"
      ],
      "id": "plain-oregon",
      "execution_count": null,
      "outputs": [
        {
          "data": {
            "text/html": [
              "<div>\n",
              "<style scoped>\n",
              "    .dataframe tbody tr th:only-of-type {\n",
              "        vertical-align: middle;\n",
              "    }\n",
              "\n",
              "    .dataframe tbody tr th {\n",
              "        vertical-align: top;\n",
              "    }\n",
              "\n",
              "    .dataframe thead th {\n",
              "        text-align: right;\n",
              "    }\n",
              "</style>\n",
              "<table border=\"1\" class=\"dataframe\">\n",
              "  <thead>\n",
              "    <tr style=\"text-align: right;\">\n",
              "      <th></th>\n",
              "      <th>日本酒</th>\n",
              "      <th>焼酎</th>\n",
              "      <th>赤ワイン</th>\n",
              "      <th>白ワイン</th>\n",
              "      <th>ウィスキー</th>\n",
              "      <th>ブランデー</th>\n",
              "      <th>缶チューハイ</th>\n",
              "    </tr>\n",
              "  </thead>\n",
              "  <tbody>\n",
              "    <tr>\n",
              "      <th>0</th>\n",
              "      <td>66.0</td>\n",
              "      <td>32.0</td>\n",
              "      <td>34</td>\n",
              "      <td>16.0</td>\n",
              "      <td>24.0</td>\n",
              "      <td>16</td>\n",
              "      <td>75</td>\n",
              "    </tr>\n",
              "  </tbody>\n",
              "</table>\n",
              "</div>"
            ],
            "text/plain": [
              "    日本酒    焼酎  赤ワイン  白ワイン  ウィスキー  ブランデー  缶チューハイ\n",
              "0  66.0  32.0    34  16.0   24.0     16      75"
            ]
          },
          "execution_count": 66,
          "metadata": {},
          "output_type": "execute_result"
        }
      ]
    },
    {
      "cell_type": "markdown",
      "metadata": {
        "id": "lB-Q4_iybcJD"
      },
      "source": [
        "# 注文が必要な商品を洗い出し"
      ],
      "id": "lB-Q4_iybcJD"
    },
    {
      "cell_type": "code",
      "metadata": {
        "id": "handy-recall",
        "outputId": "bebc9e09-6bf2-473e-dc17-f4c29774bc1a"
      },
      "source": [
        "# masterに、閾値・追加量情報が記載してある\n",
        "# 読み込んでDF\n",
        "\n",
        "filepath_master = 'sources/master.xlsx'\n",
        "df_master = pd.read_excel(filepath_master)\n",
        "df_master"
      ],
      "id": "handy-recall",
      "execution_count": null,
      "outputs": [
        {
          "data": {
            "text/html": [
              "<div>\n",
              "<style scoped>\n",
              "    .dataframe tbody tr th:only-of-type {\n",
              "        vertical-align: middle;\n",
              "    }\n",
              "\n",
              "    .dataframe tbody tr th {\n",
              "        vertical-align: top;\n",
              "    }\n",
              "\n",
              "    .dataframe thead th {\n",
              "        text-align: right;\n",
              "    }\n",
              "</style>\n",
              "<table border=\"1\" class=\"dataframe\">\n",
              "  <thead>\n",
              "    <tr style=\"text-align: right;\">\n",
              "      <th></th>\n",
              "      <th>Unnamed: 0</th>\n",
              "      <th>日本酒</th>\n",
              "      <th>焼酎</th>\n",
              "      <th>赤ワイン</th>\n",
              "      <th>白ワイン</th>\n",
              "      <th>ウィスキー</th>\n",
              "      <th>ブランデー</th>\n",
              "      <th>缶チューハイ</th>\n",
              "    </tr>\n",
              "  </thead>\n",
              "  <tbody>\n",
              "    <tr>\n",
              "      <th>0</th>\n",
              "      <td>閾値</td>\n",
              "      <td>30</td>\n",
              "      <td>20</td>\n",
              "      <td>20</td>\n",
              "      <td>20</td>\n",
              "      <td>30</td>\n",
              "      <td>10</td>\n",
              "      <td>40</td>\n",
              "    </tr>\n",
              "    <tr>\n",
              "      <th>1</th>\n",
              "      <td>追加量</td>\n",
              "      <td>100</td>\n",
              "      <td>80</td>\n",
              "      <td>100</td>\n",
              "      <td>100</td>\n",
              "      <td>80</td>\n",
              "      <td>80</td>\n",
              "      <td>120</td>\n",
              "    </tr>\n",
              "  </tbody>\n",
              "</table>\n",
              "</div>"
            ],
            "text/plain": [
              "  Unnamed: 0  日本酒  焼酎  赤ワイン  白ワイン  ウィスキー  ブランデー  缶チューハイ\n",
              "0         閾値   30  20    20    20     30     10      40\n",
              "1        追加量  100  80   100   100     80     80     120"
            ]
          },
          "execution_count": 91,
          "metadata": {},
          "output_type": "execute_result"
        }
      ]
    },
    {
      "cell_type": "code",
      "metadata": {
        "id": "cardiac-poetry",
        "outputId": "1f15567e-81cf-4827-e381-d01ac0079250"
      },
      "source": [
        "threshold = df_master.iloc[:1 , 1:]\n",
        "threshold"
      ],
      "id": "cardiac-poetry",
      "execution_count": null,
      "outputs": [
        {
          "data": {
            "text/html": [
              "<div>\n",
              "<style scoped>\n",
              "    .dataframe tbody tr th:only-of-type {\n",
              "        vertical-align: middle;\n",
              "    }\n",
              "\n",
              "    .dataframe tbody tr th {\n",
              "        vertical-align: top;\n",
              "    }\n",
              "\n",
              "    .dataframe thead th {\n",
              "        text-align: right;\n",
              "    }\n",
              "</style>\n",
              "<table border=\"1\" class=\"dataframe\">\n",
              "  <thead>\n",
              "    <tr style=\"text-align: right;\">\n",
              "      <th></th>\n",
              "      <th>日本酒</th>\n",
              "      <th>焼酎</th>\n",
              "      <th>赤ワイン</th>\n",
              "      <th>白ワイン</th>\n",
              "      <th>ウィスキー</th>\n",
              "      <th>ブランデー</th>\n",
              "      <th>缶チューハイ</th>\n",
              "    </tr>\n",
              "  </thead>\n",
              "  <tbody>\n",
              "    <tr>\n",
              "      <th>0</th>\n",
              "      <td>30</td>\n",
              "      <td>20</td>\n",
              "      <td>20</td>\n",
              "      <td>20</td>\n",
              "      <td>30</td>\n",
              "      <td>10</td>\n",
              "      <td>40</td>\n",
              "    </tr>\n",
              "  </tbody>\n",
              "</table>\n",
              "</div>"
            ],
            "text/plain": [
              "   日本酒  焼酎  赤ワイン  白ワイン  ウィスキー  ブランデー  缶チューハイ\n",
              "0   30  20    20    20     30     10      40"
            ]
          },
          "execution_count": 94,
          "metadata": {},
          "output_type": "execute_result"
        }
      ]
    },
    {
      "cell_type": "code",
      "metadata": {
        "id": "operational-driving",
        "outputId": "9459b116-edc5-4b16-bfa4-9dbed9364a9e"
      },
      "source": [
        "updated"
      ],
      "id": "operational-driving",
      "execution_count": null,
      "outputs": [
        {
          "data": {
            "text/html": [
              "<div>\n",
              "<style scoped>\n",
              "    .dataframe tbody tr th:only-of-type {\n",
              "        vertical-align: middle;\n",
              "    }\n",
              "\n",
              "    .dataframe tbody tr th {\n",
              "        vertical-align: top;\n",
              "    }\n",
              "\n",
              "    .dataframe thead th {\n",
              "        text-align: right;\n",
              "    }\n",
              "</style>\n",
              "<table border=\"1\" class=\"dataframe\">\n",
              "  <thead>\n",
              "    <tr style=\"text-align: right;\">\n",
              "      <th></th>\n",
              "      <th>日本酒</th>\n",
              "      <th>焼酎</th>\n",
              "      <th>赤ワイン</th>\n",
              "      <th>白ワイン</th>\n",
              "      <th>ウィスキー</th>\n",
              "      <th>ブランデー</th>\n",
              "      <th>缶チューハイ</th>\n",
              "    </tr>\n",
              "  </thead>\n",
              "  <tbody>\n",
              "    <tr>\n",
              "      <th>0</th>\n",
              "      <td>66.0</td>\n",
              "      <td>32.0</td>\n",
              "      <td>34</td>\n",
              "      <td>16.0</td>\n",
              "      <td>24.0</td>\n",
              "      <td>16</td>\n",
              "      <td>75</td>\n",
              "    </tr>\n",
              "  </tbody>\n",
              "</table>\n",
              "</div>"
            ],
            "text/plain": [
              "    日本酒    焼酎  赤ワイン  白ワイン  ウィスキー  ブランデー  缶チューハイ\n",
              "0  66.0  32.0    34  16.0   24.0     16      75"
            ]
          },
          "execution_count": 96,
          "metadata": {},
          "output_type": "execute_result"
        }
      ]
    },
    {
      "cell_type": "code",
      "metadata": {
        "id": "grand-imperial",
        "outputId": "a616599d-d0bf-424c-b6dd-960ae6be858e"
      },
      "source": [
        "# 閾値を下回っている商品を抽出して、\n",
        "# NaNを削除して\n",
        "# 商品名だけを取得する\n",
        "\n",
        "shortage_columns = updated[updated < threshold].dropna(axis=1).columns\n",
        "shortage_columns"
      ],
      "id": "grand-imperial",
      "execution_count": null,
      "outputs": [
        {
          "data": {
            "text/plain": [
              "Index(['白ワイン', 'ウィスキー'], dtype='object')"
            ]
          },
          "execution_count": 101,
          "metadata": {},
          "output_type": "execute_result"
        }
      ]
    },
    {
      "cell_type": "code",
      "metadata": {
        "id": "innocent-hammer",
        "outputId": "f5b98c3f-5aad-4e64-924c-77633dd4d588"
      },
      "source": [
        "# masterから不足商品の追加量を取得する\n",
        "\n",
        "df_shortage = df_master.iloc[1:, 1:][shortage_columns]\n",
        "df_shortage"
      ],
      "id": "innocent-hammer",
      "execution_count": null,
      "outputs": [
        {
          "data": {
            "text/html": [
              "<div>\n",
              "<style scoped>\n",
              "    .dataframe tbody tr th:only-of-type {\n",
              "        vertical-align: middle;\n",
              "    }\n",
              "\n",
              "    .dataframe tbody tr th {\n",
              "        vertical-align: top;\n",
              "    }\n",
              "\n",
              "    .dataframe thead th {\n",
              "        text-align: right;\n",
              "    }\n",
              "</style>\n",
              "<table border=\"1\" class=\"dataframe\">\n",
              "  <thead>\n",
              "    <tr style=\"text-align: right;\">\n",
              "      <th></th>\n",
              "      <th>白ワイン</th>\n",
              "      <th>ウィスキー</th>\n",
              "    </tr>\n",
              "  </thead>\n",
              "  <tbody>\n",
              "    <tr>\n",
              "      <th>1</th>\n",
              "      <td>100</td>\n",
              "      <td>80</td>\n",
              "    </tr>\n",
              "  </tbody>\n",
              "</table>\n",
              "</div>"
            ],
            "text/plain": [
              "   白ワイン  ウィスキー\n",
              "1   100     80"
            ]
          },
          "execution_count": 105,
          "metadata": {},
          "output_type": "execute_result"
        }
      ]
    },
    {
      "cell_type": "markdown",
      "metadata": {
        "id": "u1nj0T0GdiaE"
      },
      "source": [
        "# メール作成"
      ],
      "id": "u1nj0T0GdiaE"
    },
    {
      "cell_type": "code",
      "metadata": {
        "id": "northern-nowhere"
      },
      "source": [
        "order_text = ''\n",
        "\n",
        "for key, value in df_shortage.to_dict().items():\n",
        "    order_text += f'{key}を{value[1]}本、'"
      ],
      "id": "northern-nowhere",
      "execution_count": null,
      "outputs": []
    },
    {
      "cell_type": "code",
      "metadata": {
        "id": "aging-vatican",
        "outputId": "c274143f-b69a-4be5-c999-f8bf27d0964f"
      },
      "source": [
        "order_text"
      ],
      "id": "aging-vatican",
      "execution_count": null,
      "outputs": [
        {
          "data": {
            "text/plain": [
              "'白ワインを100本、ウィスキーを80本、'"
            ]
          },
          "execution_count": 140,
          "metadata": {},
          "output_type": "execute_result"
        }
      ]
    },
    {
      "cell_type": "markdown",
      "metadata": {
        "id": "registered-teaching"
      },
      "source": [
        "---\n",
        "\n",
        "下記ページでGmailのセキュリティ周りを変更  \n",
        "https://myaccount.google.com/u/2/security\n",
        "\n",
        "```json\n",
        "{\n",
        "    \"ADDRESS\": \"メールアドレス\",\n",
        "    \"PASSWORD\": \"セキュリティ画面で発行したパスワード\",    \n",
        "}\n",
        "```"
      ],
      "id": "registered-teaching"
    },
    {
      "cell_type": "code",
      "metadata": {
        "id": "nominated-cheese"
      },
      "source": [
        "import json\n",
        "with open('sources/secret.json') as f:\n",
        "    address_password = json.load(f)"
      ],
      "id": "nominated-cheese",
      "execution_count": null,
      "outputs": []
    },
    {
      "cell_type": "code",
      "metadata": {
        "id": "following-qualification"
      },
      "source": [
        "import smtplib\n",
        "from email.mime.text import MIMEText\n",
        "from email.utils import formatdate\n",
        "\n",
        "from_addr = address_password['ADDRESS']\n",
        "password = address_password['PASSWORD']\n",
        "\n",
        "subject = '発注依頼'\n",
        "body = f'○○さん、在庫数が足りなくなってしまったため、{order_text}発注してください。'\n",
        "to_addr = ''\n",
        "\n",
        "# SMTPサーバに接続\n",
        "smtpobj = smtplib.SMTP('smtp.gmail.com', 587)\n",
        "smtpobj.starttls()\n",
        "smtpobj.login(from_addr, password)\n",
        "\n",
        "# メッセージ（メール）の作成\n",
        "msg = MIMEText(body)\n",
        "msg['Subject'] = subject\n",
        "msg['From'] = from_addr\n",
        "msg['To'] = to_addr\n",
        "msg['Date'] = formatdate()\n",
        "\n",
        "# 作成したメールを送信\n",
        "smtpobj.send_message(msg)\n",
        "smtpobj.close()"
      ],
      "id": "following-qualification",
      "execution_count": null,
      "outputs": []
    },
    {
      "cell_type": "markdown",
      "metadata": {
        "id": "sSsemVOUd2Cr"
      },
      "source": [
        "# 最新の在庫情報の反映"
      ],
      "id": "sSsemVOUd2Cr"
    },
    {
      "cell_type": "code",
      "metadata": {
        "id": "framed-breakdown"
      },
      "source": [
        "from datetime import date"
      ],
      "id": "framed-breakdown",
      "execution_count": null,
      "outputs": []
    },
    {
      "cell_type": "code",
      "metadata": {
        "id": "skilled-storage"
      },
      "source": [
        "today = date.today()"
      ],
      "id": "skilled-storage",
      "execution_count": null,
      "outputs": []
    },
    {
      "cell_type": "code",
      "metadata": {
        "id": "involved-offering",
        "outputId": "7cdfc840-cad6-4b0c-e67c-6187895e5c3b"
      },
      "source": [
        "# 曜日の取得\n",
        "\n",
        "print(today.strftime('%a'))"
      ],
      "id": "involved-offering",
      "execution_count": null,
      "outputs": [
        {
          "name": "stdout",
          "output_type": "stream",
          "text": [
            "Sun\n"
          ]
        }
      ]
    },
    {
      "cell_type": "code",
      "metadata": {
        "id": "proved-breathing"
      },
      "source": [
        "updated['日付'] = today\n",
        "updated['曜日'] = today.strftime('%a')"
      ],
      "id": "proved-breathing",
      "execution_count": null,
      "outputs": []
    },
    {
      "cell_type": "code",
      "metadata": {
        "id": "transsexual-expression",
        "outputId": "c86bf82c-3597-4b3b-a1d8-1456f0d2b593"
      },
      "source": [
        "updated"
      ],
      "id": "transsexual-expression",
      "execution_count": null,
      "outputs": [
        {
          "data": {
            "text/html": [
              "<div>\n",
              "<style scoped>\n",
              "    .dataframe tbody tr th:only-of-type {\n",
              "        vertical-align: middle;\n",
              "    }\n",
              "\n",
              "    .dataframe tbody tr th {\n",
              "        vertical-align: top;\n",
              "    }\n",
              "\n",
              "    .dataframe thead th {\n",
              "        text-align: right;\n",
              "    }\n",
              "</style>\n",
              "<table border=\"1\" class=\"dataframe\">\n",
              "  <thead>\n",
              "    <tr style=\"text-align: right;\">\n",
              "      <th></th>\n",
              "      <th>日本酒</th>\n",
              "      <th>焼酎</th>\n",
              "      <th>赤ワイン</th>\n",
              "      <th>白ワイン</th>\n",
              "      <th>ウィスキー</th>\n",
              "      <th>ブランデー</th>\n",
              "      <th>缶チューハイ</th>\n",
              "      <th>日付</th>\n",
              "      <th>曜日</th>\n",
              "    </tr>\n",
              "  </thead>\n",
              "  <tbody>\n",
              "    <tr>\n",
              "      <th>0</th>\n",
              "      <td>66.0</td>\n",
              "      <td>32.0</td>\n",
              "      <td>34</td>\n",
              "      <td>16.0</td>\n",
              "      <td>24.0</td>\n",
              "      <td>16</td>\n",
              "      <td>75</td>\n",
              "      <td>2021-02-07</td>\n",
              "      <td>Sun</td>\n",
              "    </tr>\n",
              "  </tbody>\n",
              "</table>\n",
              "</div>"
            ],
            "text/plain": [
              "    日本酒    焼酎  赤ワイン  白ワイン  ウィスキー  ブランデー  缶チューハイ          日付   曜日\n",
              "0  66.0  32.0    34  16.0   24.0     16      75  2021-02-07  Sun"
            ]
          },
          "execution_count": 164,
          "metadata": {},
          "output_type": "execute_result"
        }
      ]
    },
    {
      "cell_type": "code",
      "metadata": {
        "id": "certain-chorus"
      },
      "source": [
        "pd.concat([df_stock, updated], sort=False).reset_index(drop=True).to_excel(filepath_stock, index=False)"
      ],
      "id": "certain-chorus",
      "execution_count": null,
      "outputs": []
    },
    {
      "cell_type": "code",
      "metadata": {
        "collapsed": true,
        "jupyter": {
          "outputs_hidden": true
        },
        "id": "aggressive-consistency",
        "outputId": "bb53c8d6-1ec7-46d3-ec16-31ae445607d6"
      },
      "source": [
        "pd.read_excel(filepath_stock)"
      ],
      "id": "aggressive-consistency",
      "execution_count": null,
      "outputs": [
        {
          "data": {
            "text/html": [
              "<div>\n",
              "<style scoped>\n",
              "    .dataframe tbody tr th:only-of-type {\n",
              "        vertical-align: middle;\n",
              "    }\n",
              "\n",
              "    .dataframe tbody tr th {\n",
              "        vertical-align: top;\n",
              "    }\n",
              "\n",
              "    .dataframe thead th {\n",
              "        text-align: right;\n",
              "    }\n",
              "</style>\n",
              "<table border=\"1\" class=\"dataframe\">\n",
              "  <thead>\n",
              "    <tr style=\"text-align: right;\">\n",
              "      <th></th>\n",
              "      <th>日付</th>\n",
              "      <th>曜日</th>\n",
              "      <th>日本酒</th>\n",
              "      <th>焼酎</th>\n",
              "      <th>赤ワイン</th>\n",
              "      <th>白ワイン</th>\n",
              "      <th>ウィスキー</th>\n",
              "      <th>ブランデー</th>\n",
              "      <th>缶チューハイ</th>\n",
              "    </tr>\n",
              "  </thead>\n",
              "  <tbody>\n",
              "    <tr>\n",
              "      <th>0</th>\n",
              "      <td>2021-01-25</td>\n",
              "      <td>Mon</td>\n",
              "      <td>100</td>\n",
              "      <td>80</td>\n",
              "      <td>51</td>\n",
              "      <td>63</td>\n",
              "      <td>150</td>\n",
              "      <td>60</td>\n",
              "      <td>95</td>\n",
              "    </tr>\n",
              "    <tr>\n",
              "      <th>1</th>\n",
              "      <td>2021-01-26</td>\n",
              "      <td>Tue</td>\n",
              "      <td>88</td>\n",
              "      <td>73</td>\n",
              "      <td>35</td>\n",
              "      <td>38</td>\n",
              "      <td>130</td>\n",
              "      <td>50</td>\n",
              "      <td>82</td>\n",
              "    </tr>\n",
              "    <tr>\n",
              "      <th>2</th>\n",
              "      <td>2021-01-27</td>\n",
              "      <td>Wed</td>\n",
              "      <td>73</td>\n",
              "      <td>66</td>\n",
              "      <td>105</td>\n",
              "      <td>15</td>\n",
              "      <td>126</td>\n",
              "      <td>37</td>\n",
              "      <td>75</td>\n",
              "    </tr>\n",
              "    <tr>\n",
              "      <th>3</th>\n",
              "      <td>2021-01-28</td>\n",
              "      <td>Thu</td>\n",
              "      <td>50</td>\n",
              "      <td>55</td>\n",
              "      <td>96</td>\n",
              "      <td>123</td>\n",
              "      <td>114</td>\n",
              "      <td>27</td>\n",
              "      <td>43</td>\n",
              "    </tr>\n",
              "    <tr>\n",
              "      <th>4</th>\n",
              "      <td>2021-01-29</td>\n",
              "      <td>Fri</td>\n",
              "      <td>39</td>\n",
              "      <td>44</td>\n",
              "      <td>75</td>\n",
              "      <td>96</td>\n",
              "      <td>106</td>\n",
              "      <td>13</td>\n",
              "      <td>19</td>\n",
              "    </tr>\n",
              "    <tr>\n",
              "      <th>5</th>\n",
              "      <td>2021-01-30</td>\n",
              "      <td>Sat</td>\n",
              "      <td>25</td>\n",
              "      <td>31</td>\n",
              "      <td>64</td>\n",
              "      <td>88</td>\n",
              "      <td>98</td>\n",
              "      <td>10</td>\n",
              "      <td>117</td>\n",
              "    </tr>\n",
              "    <tr>\n",
              "      <th>6</th>\n",
              "      <td>2021-01-31</td>\n",
              "      <td>Sun</td>\n",
              "      <td>125</td>\n",
              "      <td>106</td>\n",
              "      <td>37</td>\n",
              "      <td>77</td>\n",
              "      <td>83</td>\n",
              "      <td>84</td>\n",
              "      <td>97</td>\n",
              "    </tr>\n",
              "    <tr>\n",
              "      <th>7</th>\n",
              "      <td>2021-02-01</td>\n",
              "      <td>Mon</td>\n",
              "      <td>120</td>\n",
              "      <td>96</td>\n",
              "      <td>34</td>\n",
              "      <td>50</td>\n",
              "      <td>69</td>\n",
              "      <td>75</td>\n",
              "      <td>67</td>\n",
              "    </tr>\n",
              "    <tr>\n",
              "      <th>8</th>\n",
              "      <td>2021-02-02</td>\n",
              "      <td>Tue</td>\n",
              "      <td>112</td>\n",
              "      <td>85</td>\n",
              "      <td>10</td>\n",
              "      <td>35</td>\n",
              "      <td>54</td>\n",
              "      <td>53</td>\n",
              "      <td>49</td>\n",
              "    </tr>\n",
              "    <tr>\n",
              "      <th>9</th>\n",
              "      <td>2021-02-03</td>\n",
              "      <td>Wed</td>\n",
              "      <td>103</td>\n",
              "      <td>74</td>\n",
              "      <td>90</td>\n",
              "      <td>19</td>\n",
              "      <td>41</td>\n",
              "      <td>44</td>\n",
              "      <td>12</td>\n",
              "    </tr>\n",
              "    <tr>\n",
              "      <th>10</th>\n",
              "      <td>2021-02-04</td>\n",
              "      <td>Thu</td>\n",
              "      <td>99</td>\n",
              "      <td>66</td>\n",
              "      <td>77</td>\n",
              "      <td>107</td>\n",
              "      <td>31</td>\n",
              "      <td>37</td>\n",
              "      <td>149</td>\n",
              "    </tr>\n",
              "    <tr>\n",
              "      <th>11</th>\n",
              "      <td>2021-02-05</td>\n",
              "      <td>Fri</td>\n",
              "      <td>78</td>\n",
              "      <td>62</td>\n",
              "      <td>55</td>\n",
              "      <td>92</td>\n",
              "      <td>41</td>\n",
              "      <td>30</td>\n",
              "      <td>121</td>\n",
              "    </tr>\n",
              "    <tr>\n",
              "      <th>12</th>\n",
              "      <td>2021-02-06</td>\n",
              "      <td>Sat</td>\n",
              "      <td>66</td>\n",
              "      <td>48</td>\n",
              "      <td>38</td>\n",
              "      <td>70</td>\n",
              "      <td>31</td>\n",
              "      <td>18</td>\n",
              "      <td>98</td>\n",
              "    </tr>\n",
              "    <tr>\n",
              "      <th>13</th>\n",
              "      <td>2021-02-07</td>\n",
              "      <td>Sun</td>\n",
              "      <td>66</td>\n",
              "      <td>32</td>\n",
              "      <td>34</td>\n",
              "      <td>16</td>\n",
              "      <td>24</td>\n",
              "      <td>16</td>\n",
              "      <td>75</td>\n",
              "    </tr>\n",
              "  </tbody>\n",
              "</table>\n",
              "</div>"
            ],
            "text/plain": [
              "           日付   曜日  日本酒   焼酎  赤ワイン  白ワイン  ウィスキー  ブランデー  缶チューハイ\n",
              "0  2021-01-25  Mon  100   80    51    63    150     60      95\n",
              "1  2021-01-26  Tue   88   73    35    38    130     50      82\n",
              "2  2021-01-27  Wed   73   66   105    15    126     37      75\n",
              "3  2021-01-28  Thu   50   55    96   123    114     27      43\n",
              "4  2021-01-29  Fri   39   44    75    96    106     13      19\n",
              "5  2021-01-30  Sat   25   31    64    88     98     10     117\n",
              "6  2021-01-31  Sun  125  106    37    77     83     84      97\n",
              "7  2021-02-01  Mon  120   96    34    50     69     75      67\n",
              "8  2021-02-02  Tue  112   85    10    35     54     53      49\n",
              "9  2021-02-03  Wed  103   74    90    19     41     44      12\n",
              "10 2021-02-04  Thu   99   66    77   107     31     37     149\n",
              "11 2021-02-05  Fri   78   62    55    92     41     30     121\n",
              "12 2021-02-06  Sat   66   48    38    70     31     18      98\n",
              "13 2021-02-07  Sun   66   32    34    16     24     16      75"
            ]
          },
          "execution_count": 168,
          "metadata": {},
          "output_type": "execute_result"
        }
      ]
    },
    {
      "cell_type": "markdown",
      "metadata": {
        "id": "gGK6wNW0edm7"
      },
      "source": [
        "# 一連の流れをスクリプト化"
      ],
      "id": "gGK6wNW0edm7"
    },
    {
      "cell_type": "code",
      "metadata": {
        "id": "respective-operator"
      },
      "source": [
        "import pandas as pd\n",
        "from glob import glob\n",
        "from collections import defaultdict\n",
        "\n",
        "import os\n",
        "import shutil\n",
        "\n",
        "import json    \n",
        "import smtplib\n",
        "from email.mime.text import MIMEText\n",
        "from email.utils import formatdate\n",
        "from datetime import date\n",
        "\n",
        "# 注文表の集計\n",
        "def update_order(order, filepath):\n",
        "    # 注文表読み込み\n",
        "    df_order = pd.read_excel(filepath)\n",
        "    for key, value in df_order.to_dict().items():\n",
        "        order[key] += value[0]\n",
        "    # ファイルの移動\n",
        "    shutil.move(filepath, 'sources/order_old/')\n",
        "    return order\n",
        "\n",
        "def main():\n",
        "    print('ーーーーー開始ーーーーー')\n",
        "    # 注文情報の収集\n",
        "    print('注文情報の収集')\n",
        "    order = defaultdict(int)\n",
        "    filepaths_order = glob('sources/order_new/order*.xlsx')\n",
        "    for filepath in filepaths_order:\n",
        "        order = update_order(order, filepath)\n",
        "    print('Done')\n",
        "\n",
        "    # 最新の在庫量の確認\n",
        "    print('最新の在庫量の確認')\n",
        "    filepath_stock = 'sources/stock.xlsx'\n",
        "    df_stock = pd.read_excel(filepath_stock)\n",
        "\n",
        "    stock = df_stock.iloc[-1:, 2:]\n",
        "    stock = stock.reset_index(drop=True)\n",
        "\n",
        "    order = pd.DataFrame(order, index=[0], columns=stock.columns)\n",
        "    order = order.fillna(0)\n",
        "\n",
        "    updated = stock - order\n",
        "    print('Done')\n",
        "\n",
        "\n",
        "    # 追加注文品の算出\n",
        "    print('追加注文品の算出')\n",
        "    filepath_master = 'sources/master.xlsx'\n",
        "    df_master = pd.read_excel(filepath_master)\n",
        "\n",
        "    threshold = df_master.iloc[:1 , 1:]\n",
        "    shortage_columns = updated[updated < threshold].dropna(axis=1).columns\n",
        "\n",
        "    df_shortage = df_master.iloc[1:, 1:][shortage_columns]\n",
        "\n",
        "    order_text = ''\n",
        "    for key, value in df_shortage.to_dict().items():\n",
        "        order_text += f'{key}を{value[1]}本、'\n",
        "    print('Done')\n",
        "\n",
        "\n",
        "    # Gmailで注文\n",
        "    print('Gmailで注文')\n",
        "    with open('sources/secret.json') as f:\n",
        "        address_password = json.load(f)\n",
        "\n",
        "    from_addr = address_password['ADDRESS']\n",
        "    password = address_password['PASSWORD']\n",
        "\n",
        "    subject = '発注依頼'\n",
        "    body = f'○○さん、在庫数が足りなくなってしまったため、{order_text}発注してください。'\n",
        "    to_addr = ''\n",
        "\n",
        "    # SMTPサーバに接続\n",
        "    smtpobj = smtplib.SMTP('smtp.gmail.com', 587)\n",
        "    smtpobj.starttls()\n",
        "    smtpobj.login(from_addr, password)\n",
        "\n",
        "    # メッセージ（メール）の作成\n",
        "    msg = MIMEText(body)\n",
        "    msg['Subject'] = subject\n",
        "    msg['From'] = from_addr\n",
        "    msg['To'] = to_addr\n",
        "    msg['Date'] = formatdate()\n",
        "\n",
        "    # 作成したメールを送信\n",
        "    smtpobj.send_message(msg)\n",
        "    smtpobj.close()\n",
        "    print('Done')\n",
        "\n",
        "\n",
        "    # 在庫表の更新\n",
        "    print('在庫表の更新')\n",
        "    today = date.today()\n",
        "    updated['日付'] = today\n",
        "    updated['曜日'] = today.strftime('%a')\n",
        "\n",
        "    pd.concat([df_stock, updated], sort=False).reset_index(drop=True).to_excel(filepath_stock, index=False)\n",
        "    pd.read_excel(filepath_stock)\n",
        "    print('ーーーーー終了ーーーーー')\n",
        "\n",
        "if __name__ == '__main__':\n",
        "    main()"
      ],
      "id": "respective-operator",
      "execution_count": null,
      "outputs": []
    },
    {
      "cell_type": "code",
      "metadata": {
        "jupyter": {
          "source_hidden": true
        },
        "id": "guilty-proportion"
      },
      "source": [
        ""
      ],
      "id": "guilty-proportion",
      "execution_count": null,
      "outputs": []
    },
    {
      "cell_type": "code",
      "metadata": {
        "id": "rental-discount"
      },
      "source": [
        ""
      ],
      "id": "rental-discount",
      "execution_count": null,
      "outputs": []
    },
    {
      "cell_type": "code",
      "metadata": {
        "id": "civil-alaska"
      },
      "source": [
        ""
      ],
      "id": "civil-alaska",
      "execution_count": null,
      "outputs": []
    },
    {
      "cell_type": "code",
      "metadata": {
        "id": "welcome-texas"
      },
      "source": [
        ""
      ],
      "id": "welcome-texas",
      "execution_count": null,
      "outputs": []
    },
    {
      "cell_type": "code",
      "metadata": {
        "id": "nearby-surname"
      },
      "source": [
        ""
      ],
      "id": "nearby-surname",
      "execution_count": null,
      "outputs": []
    },
    {
      "cell_type": "code",
      "metadata": {
        "id": "digital-kennedy"
      },
      "source": [
        ""
      ],
      "id": "digital-kennedy",
      "execution_count": null,
      "outputs": []
    },
    {
      "cell_type": "code",
      "metadata": {
        "id": "checked-commons"
      },
      "source": [
        ""
      ],
      "id": "checked-commons",
      "execution_count": null,
      "outputs": []
    },
    {
      "cell_type": "code",
      "metadata": {
        "id": "roman-function"
      },
      "source": [
        ""
      ],
      "id": "roman-function",
      "execution_count": null,
      "outputs": []
    },
    {
      "cell_type": "code",
      "metadata": {
        "id": "third-hopkins"
      },
      "source": [
        ""
      ],
      "id": "third-hopkins",
      "execution_count": null,
      "outputs": []
    },
    {
      "cell_type": "code",
      "metadata": {
        "id": "prompt-collector"
      },
      "source": [
        ""
      ],
      "id": "prompt-collector",
      "execution_count": null,
      "outputs": []
    },
    {
      "cell_type": "code",
      "metadata": {
        "id": "binding-christian"
      },
      "source": [
        ""
      ],
      "id": "binding-christian",
      "execution_count": null,
      "outputs": []
    },
    {
      "cell_type": "code",
      "metadata": {
        "id": "inclusive-impossible"
      },
      "source": [
        ""
      ],
      "id": "inclusive-impossible",
      "execution_count": null,
      "outputs": []
    },
    {
      "cell_type": "code",
      "metadata": {
        "id": "single-nowhere"
      },
      "source": [
        ""
      ],
      "id": "single-nowhere",
      "execution_count": null,
      "outputs": []
    },
    {
      "cell_type": "code",
      "metadata": {
        "id": "existing-status"
      },
      "source": [
        ""
      ],
      "id": "existing-status",
      "execution_count": null,
      "outputs": []
    },
    {
      "cell_type": "code",
      "metadata": {
        "id": "planned-saying"
      },
      "source": [
        ""
      ],
      "id": "planned-saying",
      "execution_count": null,
      "outputs": []
    },
    {
      "cell_type": "code",
      "metadata": {
        "id": "express-paintball"
      },
      "source": [
        ""
      ],
      "id": "express-paintball",
      "execution_count": null,
      "outputs": []
    },
    {
      "cell_type": "code",
      "metadata": {
        "id": "alert-corpus"
      },
      "source": [
        ""
      ],
      "id": "alert-corpus",
      "execution_count": null,
      "outputs": []
    },
    {
      "cell_type": "code",
      "metadata": {
        "id": "prepared-porcelain"
      },
      "source": [
        ""
      ],
      "id": "prepared-porcelain",
      "execution_count": null,
      "outputs": []
    }
  ]
}